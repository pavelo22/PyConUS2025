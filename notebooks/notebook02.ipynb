{
 "cells": [
  {
   "cell_type": "markdown",
   "id": "4a3d3ca076b7b029",
   "metadata": {},
   "source": [
    "# Object introspection\n",
    "\n",
    "## Exercise #5: get a list of all object traits.\n",
    "Your task:\n",
    "For the given object, get a list of all object traits. Use the built-in <code>dir()</code> function and <code>\\_\\_dir__()</code> magic method. Check if both returned the same items. "
   ]
  },
  {
   "cell_type": "code",
   "execution_count": null,
   "id": "3418b83a996e32c2",
   "metadata": {},
   "outputs": [],
   "source": [
    "class Vector:\n",
    "    def __init__(self, x, y):\n",
    "        self.x = x\n",
    "        self.y = y\n",
    "        \n",
    "    def __add__(self, other):\n",
    "        return Vector(self.x + other.x, self.y + other.y)\n",
    "        \n",
    "\n",
    "v1 = Vector(1, 2)\n",
    "print(...) # <---- put your code here\n",
    "print(...) # <---- put your code here"
   ]
  },
  {
   "cell_type": "markdown",
   "id": "e8c26c29bfa29b73",
   "metadata": {},
   "source": [
    "## Serious warning\n",
    "\n",
    "When you reload operators, remember not to call their external forms in the magic method code. You run the risk of creating an infinite loop of calls. \n"
   ]
  },
  {
   "cell_type": "markdown",
   "id": "72b3493e98e01a87",
   "metadata": {},
   "source": [
    "## Exercise #6: an infinite recursion as a result of mistake\n",
    "\n",
    "Your task:\n",
    "Analyze the code presented below. Run it __outside__ of the Jupyter Notebook and review the error message received. If the code is executed inside of Jupyter Notebook, a restart of kernel may be needed. __You were warned.__"
   ]
  },
  {
   "cell_type": "code",
   "execution_count": null,
   "id": "e25ced27b1c21c53",
   "metadata": {},
   "outputs": [],
   "source": [
    "class Vector:\n",
    "    def __init__(self, x, y):\n",
    "        self.x = x\n",
    "        self.y = y\n",
    "\n",
    "    def __dir__(self):\n",
    "        return dir(self)\n",
    "\n",
    "v1 = Vector(1, 2)\n",
    "print(dir(v1))"
   ]
  },
  {
   "cell_type": "markdown",
   "id": "52dc4c58fe94a18b",
   "metadata": {},
   "source": [
    "## Exercise #7: controlling the lifecycle of an object\n",
    "\n",
    "Your task is simple: fill in the missing code to print a static string denoting the method name, e.g. <code>print('This is the \\_\\_new\\_\\_ method')</code> \n"
   ]
  },
  {
   "cell_type": "code",
   "execution_count": null,
   "id": "fbacc626f4b1906d",
   "metadata": {},
   "outputs": [],
   "source": [
    "class Number:\n",
    "    def __new__(cls, value):\n",
    "        instance = super().__new__(cls)\n",
    "        ... # <---- put your code here  \n",
    "        instance.value = value\n",
    "        return instance\n",
    "\n",
    "    def __init__(self, value):\n",
    "        ... # <---- put your code here  \n",
    "\n",
    "    def __del__(self):\n",
    "        ... # <---- put your code here  \n",
    "\n",
    "\n",
    "n = Number(5)\n",
    "print(n.value)\n"
   ]
  },
  {
   "cell_type": "markdown",
   "id": "7f5c65fca43d2c8c",
   "metadata": {},
   "source": [
    "## Exercise #8: controlling access to attributes\n",
    "\n",
    "Your task is simple: review the code and then run it to validate if attribute access works correctly."
   ]
  },
  {
   "cell_type": "code",
   "execution_count": null,
   "id": "fdf980f979f67c45",
   "metadata": {},
   "outputs": [],
   "source": [
    "class Book:\n",
    "    def __init__(self, title, author, year):\n",
    "        self.title = title\n",
    "        self.author = author\n",
    "        self.year = year\n",
    "\n",
    "    def __getattribute__(self, item):\n",
    "        print(f\"__getattribute__ called for {item}\")\n",
    "        return object.__getattribute__(self, item)\n",
    "\n",
    "    def __getattr__(self, item):\n",
    "        print(f\"__getattr__ called for {item}\")\n",
    "        if item == 'contents':\n",
    "            return 'Content of the book not supported yet'\n",
    "        return object.__getattribute__(self, item)\n",
    "\n",
    "    def __setattr__(self, name, value):\n",
    "        if name == 'contents':\n",
    "            super().__setattr__('contents', value)\n",
    "        super().__setattr__(name, value)\n",
    "\n",
    "    def __delattr__(self, name):\n",
    "        raise AttributeError(\"No attribute should be deleted\")\n",
    "\n",
    "\n",
    "book = Book('The Book', 'The Author', 'The Year')\n",
    "print(book.title)\n",
    "print(book.contents)\n",
    "book.contents = 'The Book contents'\n",
    "print(book.contents)\n",
    "\n",
    "try:\n",
    "    del book.contents\n",
    "except AttributeError:\n",
    "    print('Works as intended')\n"
   ]
  },
  {
   "cell_type": "markdown",
   "id": "154cffc6c584311",
   "metadata": {},
   "source": [
    "## Exercise #9: making your objects callable\n",
    "\n",
    "Your task is: provide simple implementation of <code>\\_\\_call()\\_\\_</code> for the <code>Book</code> class. It should output the string 'We started reading the book'\n",
    "\n"
   ]
  },
  {
   "cell_type": "code",
   "execution_count": null,
   "id": "ed70dfa037ea5071",
   "metadata": {},
   "outputs": [],
   "source": [
    "class Book:\n",
    "    def __call__(self):\n",
    "        ... # <---- put your code here\n",
    "    \n",
    "book = Book()\n",
    "assert book() == 'We started reading the book'\n"
   ]
  }
 ],
 "metadata": {
  "kernelspec": {
   "display_name": "Python 3 (ipykernel)",
   "language": "python",
   "name": "python3"
  },
  "language_info": {
   "codemirror_mode": {
    "name": "ipython",
    "version": 3
   },
   "file_extension": ".py",
   "mimetype": "text/x-python",
   "name": "python",
   "nbconvert_exporter": "python",
   "pygments_lexer": "ipython3",
   "version": "3.12.2"
  }
 },
 "nbformat": 4,
 "nbformat_minor": 5
}
