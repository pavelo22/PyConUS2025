{
 "cells": [
  {
   "cell_type": "markdown",
   "id": "195cedbd-ba50-44aa-8c6d-16d2c1472d60",
   "metadata": {},
   "source": [
    "<h1>Our own currency: Pittcoin & Pittdust</h1>"
   ]
  },
  {
   "cell_type": "markdown",
   "id": "8dd95cf7-562e-4429-99c9-29e407266b77",
   "metadata": {},
   "source": [
    "<center>\n",
    "    <img src=\"Pittcoin.png\" width=\"300\">&nbsp;&nbsp;&nbsp;&nbsp;&nbsp;&nbsp;&nbsp;&nbsp;<img src=\"Pittdust.png\" width=\"300\">\n",
    "</center>\n"
   ]
  },
  {
   "cell_type": "markdown",
   "id": "6296aaf7-0c08-4f7f-b1e6-f287ed58fdc6",
   "metadata": {},
   "source": [
    "<h2>Task #1</h2>\n",
    "<strong>Goal</strong>: Create a class to model a new hypothetical currency called 'Pittcoin'. <u>One 'Pittcoin' (PC) can be exchanged for 60 'Pittdust' (PD) units.</u><br><br>\n",
    "\n",
    "The `Pittcoin` class should provide methods that are responsible for:\n",
    "* initilization of an object with a number of PCs, PDs, and creation date (epoch value, like 1747307533),\n",
    "* addition of two objects containing PCs and PDs and supporting PD => PC conversion if needed,\n",
    "* comparison of two objects (equals),\n",
    "* returning a non developer, human readable value interpretion of an object like `1 Pittcoin, 3 Pittdust`,\n",
    "* returning a developer readable value interpretion of an object like `1 PC, 3 PD; created: 1747307533`,\n",
    "\n",
    "Additionally create a set of unit tests to prove that the magic methods work correctly, and prevent regression in the future, e.g.:\n",
    "* test if (1PC 10PD) + (3PC 55PD) equals (5PC 5PD)\n",
    "* test if (3PC 55PD) + (-2PC 0PD) equals (1PC 55PD)\n",
    "* test if (1PC 10PD) is less than (1PC 20PD)\n",
    "\n",
    "<strong>Hint: </strong>Developing code in TDD manner is always a good idea!"
   ]
  },
  {
   "cell_type": "markdown",
   "id": "d726100d-994c-427c-ad7d-d33eb17e5f0f",
   "metadata": {},
   "source": [
    "<h2>Task #2 (your homework)</h2>\n",
    "<strong>Goal</strong>: Extend the class implementation to support the following operations:\n",
    "\n",
    "* subtraction of Pittcoin objects,\n",
    "* multiplication (number times Pittcoin, Pittcoin times number),\n",
    "* comparisons (less or equal, greater than, etc),\n",
    "* support for all operators for situations when the number of Pittdusts is (less or equal -60) or (greater or equal 60)\n",
    "\n",
    "<u>Remember that unit test is your good companion!</u>"
   ]
  },
  {
   "cell_type": "markdown",
   "id": "99688d91-3568-4ab3-8ad3-81fb0c7b0265",
   "metadata": {},
   "source": [
    "<h2>Task #3</h2>\n",
    "<strong>Goal</strong>: Create a context manager called `OperationLogger` that:\n",
    "\n",
    "* Opens a file for appending log messages.\n",
    "* Logs `Start of operation` on entry and `End of operation` on exit.\n",
    "* Ensures the file is properly closed.\n",
    "\n",
    "Additional requirements:\n",
    "* Implement it using a class with `__enter__` and `__exit__` magic methods.\n",
    "* It should take a filename as an argument.\n",
    "* It should not suppress exceptions and still write `End of operation`.\n",
    " \n",
    "<strong>Example usage</strong>:\n",
    "```\n",
    "from pittcoin import Pittcoin\n",
    "\n",
    "coin1 = Pittcoin(1, 1)\n",
    "coin2 = Pittcoin(2, 1)\n",
    "\n",
    "try:\n",
    "    exception_raised = False\n",
    "    with OperationLogger('operations.txt') as file:\n",
    "        coin1.pc = 'abcd'\n",
    "        file.write('\\tAddition\\n')\n",
    "        coin3 = coin1 + coin2\n",
    "except TypeError:\n",
    "    exception_raised = True\n",
    "```\n"
   ]
  }
 ],
 "metadata": {
  "kernelspec": {
   "display_name": "Python 3 (ipykernel)",
   "language": "python",
   "name": "python3"
  },
  "language_info": {
   "codemirror_mode": {
    "name": "ipython",
    "version": 3
   },
   "file_extension": ".py",
   "mimetype": "text/x-python",
   "name": "python",
   "nbconvert_exporter": "python",
   "pygments_lexer": "ipython3",
   "version": "3.12.2"
  }
 },
 "nbformat": 4,
 "nbformat_minor": 5
}
